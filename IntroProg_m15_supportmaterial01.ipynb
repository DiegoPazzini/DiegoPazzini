{
  "nbformat": 4,
  "nbformat_minor": 0,
  "metadata": {
    "colab": {
      "provenance": [],
      "collapsed_sections": [
        "RhqmXiHQo-is",
        "SvT9xrajLL7J",
        "91eSyA2cLLqv"
      ],
      "toc_visible": true,
      "include_colab_link": true
    },
    "kernelspec": {
      "name": "python3",
      "display_name": "Python 3"
    }
  },
  "cells": [
    {
      "cell_type": "markdown",
      "metadata": {
        "id": "view-in-github",
        "colab_type": "text"
      },
      "source": [
        "<a href=\"https://colab.research.google.com/github/DiegoPazzini/DiegoPazzini/blob/main/IntroProg_m15_supportmaterial01.ipynb\" target=\"_parent\"><img src=\"https://colab.research.google.com/assets/colab-badge.svg\" alt=\"Open In Colab\"/></a>"
      ]
    },
    {
      "cell_type": "markdown",
      "metadata": {
        "id": "KJqp9AANOCtf"
      },
      "source": [
        "<img src=\"https://raw.githubusercontent.com/andre-marcos-perez/ebac-course-utils/main/media/logo/newebac_logo_black_half.png\" alt=\"ebac-logo\">\n",
        "\n",
        "---\n",
        "\n",
        "# **Módulo 01** | Python: Variáveis & Tipos de Dados\n",
        "Caderno de **Aula**<br>\n",
        "Aluno [Diego Pazzini](https://www.linkedin.com/in/andremarcosperez/)\n",
        "\n",
        "---"
      ]
    },
    {
      "cell_type": "markdown",
      "metadata": {
        "id": "d9jDtUbDOE1-"
      },
      "source": [
        "# **Tópicos**\n",
        "\n",
        "<ol type=\"1\">\n",
        "  <li>Introdução ao Google Colab;</li>\n",
        "  <li>Variáveis;</li>\n",
        "  <li>Números;</li>\n",
        "  <li><i>Strings;</i></li>\n",
        "  <li>Boleanos.</li>\n",
        "</ol>"
      ]
    },
    {
      "cell_type": "markdown",
      "metadata": {
        "id": "SmoHgt-lwkpD"
      },
      "source": [
        "---"
      ]
    },
    {
      "cell_type": "markdown",
      "metadata": {
        "id": "GABI6OW8OfQ2"
      },
      "source": [
        "# **Aulas**"
      ]
    },
    {
      "cell_type": "markdown",
      "metadata": {
        "id": "muD1vxozykSC"
      },
      "source": [
        "## 1\\. Introdução ao Google Colab"
      ]
    },
    {
      "cell_type": "markdown",
      "metadata": {
        "id": "xT1ohV3t0FQJ"
      },
      "source": [
        "> Ferramenta web autogerênciada de cadernos (*notebooks*)."
      ]
    },
    {
      "cell_type": "markdown",
      "metadata": {
        "id": "5a3_syBIP6yO"
      },
      "source": [
        "### **1.1. Ferramenta web**"
      ]
    },
    {
      "cell_type": "markdown",
      "metadata": {
        "id": "xF1tFQyRQag2"
      },
      "source": [
        "\n",
        "\n",
        "*   Crie uma conta Google em [gmail.com](https://gmail.com);\n",
        "*   Acesse o Google Colab através do endereço [colab.research.google.com](https://colab.research.google.com/).\n",
        "\n",
        "\n"
      ]
    },
    {
      "cell_type": "markdown",
      "source": [],
      "metadata": {
        "id": "Q6spvR2hMZ0d"
      }
    },
    {
      "cell_type": "markdown",
      "source": [],
      "metadata": {
        "id": "AyZ-IRGYMa0L"
      }
    },
    {
      "cell_type": "markdown",
      "source": [],
      "metadata": {
        "id": "MuDzuNF4MZw5"
      }
    },
    {
      "cell_type": "markdown",
      "source": [],
      "metadata": {
        "id": "7tZUB2KZMaHP"
      }
    },
    {
      "cell_type": "markdown",
      "metadata": {
        "id": "VkIgtLmhQRDV"
      },
      "source": [
        "### **1.2. Autogerênciada**"
      ]
    },
    {
      "cell_type": "markdown",
      "metadata": {
        "id": "P14BSbuH0SQB"
      },
      "source": [
        "\n",
        "\n",
        "*   A Google provisiona uma máquina virtual para você;\n",
        "*   A máquina virtual dura no máximo 12h.\n",
        "\n"
      ]
    },
    {
      "cell_type": "markdown",
      "metadata": {
        "id": "mIgaH380QG2e"
      },
      "source": [
        "### **1.3. Cadernos (*notebooks*)**"
      ]
    },
    {
      "cell_type": "markdown",
      "metadata": {
        "id": "_4Q4H0RKm-4G"
      },
      "source": [
        "Um **caderno** é um documento *web* composto por um conjunto de elementos (células) de texto e código:\n",
        "\n",
        "\n",
        "*   Células de **texto** podem ser editados com o editor da ferramenta, HTML ou Markdown;\n",
        "*   Células de **código** são exclusivamente para a linguagem de programação Python.\n",
        "\n"
      ]
    },
    {
      "cell_type": "code",
      "source": [
        "print(\"Hello Word!\")"
      ],
      "metadata": {
        "colab": {
          "base_uri": "https://localhost:8080/"
        },
        "id": "XtvQpxcbMjQ_",
        "outputId": "40b1d5ff-f7df-4ab9-e8bc-6e26f0f3b44c"
      },
      "execution_count": 1,
      "outputs": [
        {
          "output_type": "stream",
          "name": "stdout",
          "text": [
            "Hello Word!\n"
          ]
        }
      ]
    },
    {
      "cell_type": "markdown",
      "source": [
        "Está é uma **célula** de *texto*\n",
        "\n",
        "\n",
        "1.   Item da lista\n",
        "2.   Item da lista\n",
        "\n"
      ],
      "metadata": {
        "id": "sco5UKn_L5Ds"
      }
    },
    {
      "cell_type": "code",
      "metadata": {
        "id": "ILZGen4Ob_vC",
        "colab": {
          "base_uri": "https://localhost:8080/"
        },
        "outputId": "ee71ae79-afe7-41ad-e049-f810172356c6"
      },
      "source": [
        "print(\"olá mundo!\")"
      ],
      "execution_count": 2,
      "outputs": [
        {
          "output_type": "stream",
          "name": "stdout",
          "text": [
            "olá mundo!\n"
          ]
        }
      ]
    },
    {
      "cell_type": "markdown",
      "metadata": {
        "id": "zC2XR1GRaFl5"
      },
      "source": [
        "## 2\\. Variáveis"
      ]
    },
    {
      "cell_type": "markdown",
      "metadata": {
        "id": "sV1otxQVhcaA"
      },
      "source": [
        "### **2.1. Definição**"
      ]
    },
    {
      "cell_type": "markdown",
      "metadata": {
        "id": "h5y7fCLQkZsh"
      },
      "source": [
        "Mecanismo de armazenamento volátil de dados, ou seja, dados salvos em pedacinhos da memória RAM do sistema computacional em uso (*notebook*, *mobile*, console de vídeo game, *smartwatch*, etc.)."
      ]
    },
    {
      "cell_type": "code",
      "metadata": {
        "id": "aMZfXjjakydR",
        "colab": {
          "base_uri": "https://localhost:8080/"
        },
        "outputId": "073c03a8-9d9e-418e-c983-847b65b1cc60"
      },
      "source": [
        "idade = 30\n",
        "print(idade)\n",
        "\n",
        "idade = 27\n",
        "print(idade)\n",
        "\n",
        "nome = \"Diego\"\n",
        "print(nome)"
      ],
      "execution_count": 4,
      "outputs": [
        {
          "output_type": "stream",
          "name": "stdout",
          "text": [
            "30\n",
            "27\n",
            "Diego\n"
          ]
        }
      ]
    },
    {
      "cell_type": "markdown",
      "metadata": {
        "id": "JG1HL69-j0lH"
      },
      "source": [
        "### **2.2. Tipos nativos**"
      ]
    },
    {
      "cell_type": "markdown",
      "metadata": {
        "id": "ltUCqK5Yj6AN"
      },
      "source": [
        "**Tipos numéricos:** inteiros (`int`) e decimais (`float`):"
      ]
    },
    {
      "cell_type": "code",
      "metadata": {
        "id": "7GDDnhhLhsZ2"
      },
      "source": [
        "preco = 1000\n",
        "tipo_preco = type(preco)\n",
        "\n",
        "print(preco)\n",
        "print(tipo_preco)\n",
        "\n",
        "juros = 0.05\n",
        "tipo_juros = type(juros)\n",
        "\n",
        "print(juros)\n",
        "print(tipo_juros)"
      ],
      "execution_count": null,
      "outputs": []
    },
    {
      "cell_type": "markdown",
      "metadata": {
        "id": "5LLx5ePxj_UW"
      },
      "source": [
        "**Tipos de texto:** *strings* (`str`):"
      ]
    },
    {
      "cell_type": "code",
      "metadata": {
        "id": "FKuOxDzQiHAo",
        "colab": {
          "base_uri": "https://localhost:8080/"
        },
        "outputId": "5a8c88ac-d352-42f6-b5cf-8d447a722b91"
      },
      "source": [
        "primeiro_nome = \"Diego Pazzini\"\n",
        "\n",
        "print(primeiro_nome)\n",
        "print(type(primeiro_nome))\n",
        "\n",
        "pais = 'Brasil'\n",
        "\n",
        "print(pais)\n",
        "print(type(pais))"
      ],
      "execution_count": 5,
      "outputs": [
        {
          "output_type": "stream",
          "name": "stdout",
          "text": [
            "Diego Pazzini\n",
            "<class 'str'>\n",
            "Brasil\n",
            "<class 'str'>\n"
          ]
        }
      ]
    },
    {
      "cell_type": "markdown",
      "metadata": {
        "id": "RGKyzda2kIh5"
      },
      "source": [
        "**Tipos lógicos:** booleanos (`bool`):"
      ]
    },
    {
      "cell_type": "code",
      "metadata": {
        "id": "C2cJSexqiTq-",
        "colab": {
          "base_uri": "https://localhost:8080/"
        },
        "outputId": "0be63c45-3f89-4340-ca36-44b5f1d72ec0"
      },
      "source": [
        "usuario_maior_de_idade = True\n",
        "\n",
        "print(usuario_maior_de_idade)\n",
        "print(type(usuario_maior_de_idade))"
      ],
      "execution_count": 14,
      "outputs": [
        {
          "output_type": "stream",
          "name": "stdout",
          "text": [
            "True\n",
            "<class 'bool'>\n"
          ]
        }
      ]
    },
    {
      "cell_type": "markdown",
      "metadata": {
        "id": "7Is0Z3PzkQqw"
      },
      "source": [
        "**Tipo vazio** (`NoneType`):"
      ]
    },
    {
      "cell_type": "code",
      "metadata": {
        "id": "47WGcXxIijO-",
        "colab": {
          "base_uri": "https://localhost:8080/"
        },
        "outputId": "616c970e-0b32-4cfe-8fea-a37e3c770455"
      },
      "source": [
        "telefone_fixo = None\n",
        "\n",
        "print(telefone_fixo)\n",
        "print(type(telefone_fixo))"
      ],
      "execution_count": 13,
      "outputs": [
        {
          "output_type": "stream",
          "name": "stdout",
          "text": [
            "None\n",
            "<class 'NoneType'>\n"
          ]
        }
      ]
    },
    {
      "cell_type": "markdown",
      "metadata": {
        "id": "ZtOHwcxEaGGp"
      },
      "source": [
        "## 3\\. Números"
      ]
    },
    {
      "cell_type": "markdown",
      "metadata": {
        "id": "s_Dj-BgThLg5"
      },
      "source": [
        "### **3.1. Motivação**"
      ]
    },
    {
      "cell_type": "markdown",
      "metadata": {
        "id": "-WX56uZlEVEb"
      },
      "source": [
        "Você precisa calcular o **ticket médio** diário `tkt` do seu restaurante. A métrica é calculada pela soma do valor das vendas `svv` de um mesmo dia dividido pela quantidade de vendas `sqv`, também de um mesmo dia.\n"
      ]
    },
    {
      "cell_type": "markdown",
      "metadata": {
        "id": "5a_KPf7MM_NV"
      },
      "source": [
        "$tkt = svv / sqv$"
      ]
    },
    {
      "cell_type": "markdown",
      "metadata": {
        "id": "QV_qcqfZMzoL"
      },
      "source": [
        "Esta é a sua planilha:\n",
        "\n"
      ]
    },
    {
      "cell_type": "markdown",
      "metadata": {
        "id": "ubiOD7fyNB9t"
      },
      "source": [
        "| Dia   | Valor Total Vendas | Qtd Total Vendas | Ticket Medio |\n",
        "|-------|--------------------|------------------|-|\n",
        "| 19/01 | 153.98             | 3                |?|\n",
        "| 20/01 | 337.01             | 7                |?|\n",
        "| 23/01 | 295.33             | 5                |?|"
      ]
    },
    {
      "cell_type": "markdown",
      "metadata": {
        "id": "zl3QjgS_1o1n"
      },
      "source": [
        "Como podemos fazer este cálculo usando o Python?"
      ]
    },
    {
      "cell_type": "markdown",
      "metadata": {
        "id": "jeEzLmuRhDQy"
      },
      "source": [
        "### **3.2. Definição**"
      ]
    },
    {
      "cell_type": "markdown",
      "metadata": {
        "id": "ngFl2buTAnSs"
      },
      "source": [
        "Armazenam **valores numéricos**:\n",
        "\n",
        "*   `10, 37, 500` (inteiros);\n",
        "*   `0.333, 10.1` (decimais);\n",
        "*   `1 + 2j` (complexos).\n",
        "\n"
      ]
    },
    {
      "cell_type": "markdown",
      "metadata": {
        "id": "Ai9djKfjBjO7"
      },
      "source": [
        "São dos tipos:\n",
        "\n",
        "*   `int` (inteiros);\n",
        "*   `float` (decimais);\n",
        "*   `complex` (complexos).\n",
        "\n"
      ]
    },
    {
      "cell_type": "code",
      "metadata": {
        "id": "45Zt8wPsBzFL",
        "colab": {
          "base_uri": "https://localhost:8080/"
        },
        "outputId": "46601fbb-a561-4b1a-9878-203e85838106"
      },
      "source": [
        "print(type(37))\n",
        "print(type(10.1))\n",
        "print(type(1 + 2j))\n"
      ],
      "execution_count": 15,
      "outputs": [
        {
          "output_type": "stream",
          "name": "stdout",
          "text": [
            "<class 'int'>\n",
            "<class 'float'>\n",
            "<class 'complex'>\n"
          ]
        }
      ]
    },
    {
      "cell_type": "markdown",
      "metadata": {
        "id": "PoTeRwlihDQ0"
      },
      "source": [
        "### **3.3. Operações**\n",
        "\n",
        "\n",
        "\n"
      ]
    },
    {
      "cell_type": "markdown",
      "metadata": {
        "id": "jhK1JIKUDGKG"
      },
      "source": [
        "As operações dos tipos numéricos são as quatro operações matemáticas fundamentais:\n",
        "\n",
        "*   `+` (soma);\n",
        "*   `-` (subtração);\n",
        "*   `*` (multiplicação);\n",
        "*   `/` (divisão).\n",
        "\n",
        "Além de operações mais avançadas:\n",
        "\n",
        "*   `//` (divisão inteira)\n",
        "*   `**` (potência ou exponenciação);\n",
        "*   `%` (resto de divisão)."
      ]
    },
    {
      "cell_type": "markdown",
      "metadata": {
        "id": "UYw4Ysf7a9mq"
      },
      "source": [
        "**Exemplo**: Carrinho de compra de um *e-commerce*."
      ]
    },
    {
      "cell_type": "code",
      "metadata": {
        "id": "jk33JZ4EChkY",
        "colab": {
          "base_uri": "https://localhost:8080/"
        },
        "outputId": "e3740f0e-38fb-4dd5-a543-270bb911ce4d"
      },
      "source": [
        "qtd_items_carrinho_compra = 0\n",
        "\n",
        "qtd_items_carrinho_compra = qtd_items_carrinho_compra + 1\n",
        "print(qtd_items_carrinho_compra)\n",
        "\n",
        "qtd_items_carrinho_compra = qtd_items_carrinho_compra + 1\n",
        "print(qtd_items_carrinho_compra)"
      ],
      "execution_count": 12,
      "outputs": [
        {
          "output_type": "stream",
          "name": "stdout",
          "text": [
            "1\n",
            "2\n"
          ]
        }
      ]
    },
    {
      "cell_type": "code",
      "metadata": {
        "id": "O6RSj4GrD4ub",
        "colab": {
          "base_uri": "https://localhost:8080/"
        },
        "outputId": "753391f3-f3c8-46ea-a677-05651ed7e9a8"
      },
      "source": [
        "qtd_items_carrinho_compra = 0\n",
        "\n",
        "qtd_items_carrinho_compra += 1\n",
        "print(qtd_items_carrinho_compra)\n",
        "\n",
        "qtd_items_carrinho_compra += 1\n",
        "print(qtd_items_carrinho_compra)"
      ],
      "execution_count": 11,
      "outputs": [
        {
          "output_type": "stream",
          "name": "stdout",
          "text": [
            "1\n",
            "2\n"
          ]
        }
      ]
    },
    {
      "cell_type": "markdown",
      "metadata": {
        "id": "J7qurQRJbFJZ"
      },
      "source": [
        "**Exemplo**: Total a pagar de um produto."
      ]
    },
    {
      "cell_type": "code",
      "metadata": {
        "id": "hcIHiGzREIUW"
      },
      "source": [
        "preco = 47\n",
        "quantidade = 0.250\n",
        "\n",
        "total_a_pagar = quantidade * preco\n",
        "print(total_a_pagar)"
      ],
      "execution_count": null,
      "outputs": []
    },
    {
      "cell_type": "code",
      "metadata": {
        "id": "uK-JxBwc28Yo"
      },
      "source": [
        "a = 3\n",
        "b = 2\n",
        "\n",
        "c = a / b\n",
        "print(c)\n",
        "print(type(c))\n",
        "\n",
        "d = a // b\n",
        "print(d)\n",
        "print(type(d))"
      ],
      "execution_count": null,
      "outputs": []
    },
    {
      "cell_type": "markdown",
      "metadata": {
        "id": "QpMlxqRyhDQ1"
      },
      "source": [
        "### **3.4. Conversão**"
      ]
    },
    {
      "cell_type": "markdown",
      "metadata": {
        "id": "blCccgPDb4Xq"
      },
      "source": [
        "Podemos converter os tipos numéricos entre si utilizando o método nativo `int`, `float` e `complex`:"
      ]
    },
    {
      "cell_type": "code",
      "metadata": {
        "id": "ys7oqfsSPxuo"
      },
      "source": [
        "print(int(3.9))"
      ],
      "execution_count": null,
      "outputs": []
    },
    {
      "cell_type": "code",
      "metadata": {
        "id": "X9gYjUQscd93"
      },
      "source": [
        "print(float(10))"
      ],
      "execution_count": null,
      "outputs": []
    },
    {
      "cell_type": "code",
      "metadata": {
        "id": "0NyTadpHchyu"
      },
      "source": [
        "print(complex(1))"
      ],
      "execution_count": null,
      "outputs": []
    },
    {
      "cell_type": "markdown",
      "metadata": {
        "id": "ov7Fg-mWhDQ1"
      },
      "source": [
        "### **3.5. Revisitando a motivação**"
      ]
    },
    {
      "cell_type": "markdown",
      "metadata": {
        "id": "FCoe_26dbXwR"
      },
      "source": [
        "| Dia   | Valor Total Vendas | Qtd Total Vendas | Ticket Medio |\n",
        "|-------|--------------------|------------------|-|\n",
        "| 19/01 | 153.98             | 3                |?|\n",
        "| 20/01 | 337.01             | 7                |?|\n",
        "| 23/01 | 295.33             | 5                |?|"
      ]
    },
    {
      "cell_type": "markdown",
      "metadata": {
        "id": "fWH4WbWAOgoz"
      },
      "source": [
        "Ticket médio diário do dia 19/01."
      ]
    },
    {
      "cell_type": "code",
      "metadata": {
        "id": "gYcNsiolOUKU",
        "colab": {
          "base_uri": "https://localhost:8080/"
        },
        "outputId": "01d55e6e-e5b9-45cb-ae4f-e23d8a686f30"
      },
      "source": [
        "svv_19 = 153.98\n",
        "sqv_19 = 3\n",
        "\n",
        "tkt_19 = svv_19 / sqv_19\n",
        "print(tkt_19)"
      ],
      "execution_count": 10,
      "outputs": [
        {
          "output_type": "stream",
          "name": "stdout",
          "text": [
            "51.32666666666666\n"
          ]
        }
      ]
    },
    {
      "cell_type": "markdown",
      "metadata": {
        "id": "RrLEVyS6Pmpn"
      },
      "source": [
        "Ticket médio diário do dia 20/01."
      ]
    },
    {
      "cell_type": "code",
      "metadata": {
        "id": "YIi6A_55OUpT",
        "colab": {
          "base_uri": "https://localhost:8080/"
        },
        "outputId": "af9979f2-a7fe-4412-ec14-68c9edfdc906"
      },
      "source": [
        "svv_20 = 337.01\n",
        "sqv_20 = 7\n",
        "\n",
        "tkt_20 = svv_20 / sqv_20\n",
        "print(tkt_20)"
      ],
      "execution_count": 9,
      "outputs": [
        {
          "output_type": "stream",
          "name": "stdout",
          "text": [
            "48.144285714285715\n"
          ]
        }
      ]
    },
    {
      "cell_type": "markdown",
      "metadata": {
        "id": "iQyQbWldPpIq"
      },
      "source": [
        "Ticket médio diário do dia 23/01."
      ]
    },
    {
      "cell_type": "code",
      "metadata": {
        "id": "3DX3teGqPHet",
        "colab": {
          "base_uri": "https://localhost:8080/"
        },
        "outputId": "4962a243-bce0-45de-8484-2d0f004e2f87"
      },
      "source": [
        "svv_23 = 295.33\n",
        "sqv_23 = 5\n",
        "\n",
        "tkt_23 = svv_23 / sqv_23\n",
        "print(tkt_23)"
      ],
      "execution_count": 8,
      "outputs": [
        {
          "output_type": "stream",
          "name": "stdout",
          "text": [
            "59.065999999999995\n"
          ]
        }
      ]
    },
    {
      "cell_type": "markdown",
      "metadata": {
        "id": "is2buU5dPrS-"
      },
      "source": [
        "Ticket médio"
      ]
    },
    {
      "cell_type": "code",
      "metadata": {
        "id": "G6-yjrQkPT8y"
      },
      "source": [
        "tkt = (tkt_19 + tkt_20 + tkt_23) / 3\n",
        "print(tkt)"
      ],
      "execution_count": null,
      "outputs": []
    },
    {
      "cell_type": "markdown",
      "metadata": {
        "id": "ne7Ay0HKaGSv"
      },
      "source": [
        "## 4\\. *Strings*"
      ]
    },
    {
      "cell_type": "markdown",
      "metadata": {
        "id": "DvHPNAoPgdiG"
      },
      "source": [
        "### **4.1. Motivação**"
      ]
    },
    {
      "cell_type": "markdown",
      "metadata": {
        "id": "2zLVibiQtAly"
      },
      "source": [
        "A empresa que você trabalha adquiriu uma *startup* de logística. Você precisa identificar todos endereços que são comum a ambas. Na sua empresa, você armazena a latitude e longitude dos endereços em duas variáveis `lat` e `lon`, já a *startup* adquirida em uma única variável `latlon`.\n",
        "\n"
      ]
    },
    {
      "cell_type": "code",
      "metadata": {
        "id": "YYWnkgj4udsB"
      },
      "source": [
        "# sua empresa\n",
        "lat = '-22.005320'\n",
        "lon = '-47.891040'\n",
        "\n",
        "# startup adquirida\n",
        "latlon = '-22.005320;-47.891040'"
      ],
      "execution_count": 16,
      "outputs": []
    },
    {
      "cell_type": "markdown",
      "metadata": {
        "id": "NqIBXMslu8rx"
      },
      "source": [
        "Como podemos normalizar a forma com que as latitudes e longitudes são armazenadas para possam ser comparadas?"
      ]
    },
    {
      "cell_type": "markdown",
      "metadata": {
        "id": "3SMp5GwjglJm"
      },
      "source": [
        "### **4.2. Definição**"
      ]
    },
    {
      "cell_type": "markdown",
      "metadata": {
        "id": "OyaC_TtSc-WB"
      },
      "source": [
        "Armazenam **textos**:"
      ]
    },
    {
      "cell_type": "markdown",
      "metadata": {
        "id": "iJ4X178KeNEM"
      },
      "source": [
        "\n",
        "*   `c`, `EBAC`, `Andre Perez, 20 anos` (texto)\n",
        "\n"
      ]
    },
    {
      "cell_type": "markdown",
      "metadata": {
        "id": "Z7rXi3m_ewAs"
      },
      "source": [
        "São do tipo `str`:"
      ]
    },
    {
      "cell_type": "code",
      "metadata": {
        "id": "2WC97LIMfUsb",
        "colab": {
          "base_uri": "https://localhost:8080/"
        },
        "outputId": "f1728b82-7bdd-4073-b83e-acd476327998"
      },
      "source": [
        "nome_aula = 'Aula 04, Módulo 01, Strings'\n",
        "\n",
        "print(nome_aula)\n",
        "print(type(nome_aula))"
      ],
      "execution_count": 17,
      "outputs": [
        {
          "output_type": "stream",
          "name": "stdout",
          "text": [
            "Aula 04, Módulo 01, Strings\n",
            "<class 'str'>\n"
          ]
        }
      ]
    },
    {
      "cell_type": "code",
      "metadata": {
        "id": "T0pVDdDDFix5",
        "colab": {
          "base_uri": "https://localhost:8080/"
        },
        "outputId": "97fd3f71-ffbd-4b81-c90a-78b6249181ab"
      },
      "source": [
        "string_vazia = \"\"\n",
        "\n",
        "print(string_vazia)\n",
        "print(type(string_vazia))"
      ],
      "execution_count": 18,
      "outputs": [
        {
          "output_type": "stream",
          "name": "stdout",
          "text": [
            "\n",
            "<class 'str'>\n"
          ]
        }
      ]
    },
    {
      "cell_type": "markdown",
      "metadata": {
        "id": "e3ieQfXTgqd3"
      },
      "source": [
        "### **4.3. Operações**"
      ]
    },
    {
      "cell_type": "markdown",
      "metadata": {
        "id": "IsHq0ZpTf2M8"
      },
      "source": [
        "As operações de variáveis do tipo *string* são:\n",
        "\n",
        "\n",
        "*   `+` (concatenação).\n",
        "\n"
      ]
    },
    {
      "cell_type": "markdown",
      "metadata": {
        "id": "0om-T5A_h8h2"
      },
      "source": [
        "**Exemplo:** Nome completo."
      ]
    },
    {
      "cell_type": "code",
      "metadata": {
        "id": "mFWid8IlgChM",
        "colab": {
          "base_uri": "https://localhost:8080/"
        },
        "outputId": "ee1ed0ef-0d69-4a71-f173-d185fb134e6d"
      },
      "source": [
        "nome = 'Diego'\n",
        "sobrenome = 'Pazzini'\n",
        "\n",
        "apresentacao = 'Olá, meu nome é ' + nome + ' ' + sobrenome + '.'\n",
        "print(apresentacao)"
      ],
      "execution_count": 7,
      "outputs": [
        {
          "output_type": "stream",
          "name": "stdout",
          "text": [
            "Olá, meu nome é Diego Pazzini.\n"
          ]
        }
      ]
    },
    {
      "cell_type": "markdown",
      "metadata": {
        "id": "EOmjluXb_6mt"
      },
      "source": [
        "Uma outra forma de concatenar strings é utilizar operações de formatação:"
      ]
    },
    {
      "cell_type": "code",
      "metadata": {
        "id": "DskkKjbmABA3"
      },
      "source": [
        "nome = 'Andre Marcos'\n",
        "sobrenome = 'Perez'\n",
        "\n",
        "apresentacao = f'Olá, meu nome é {nome} {sobrenome}.'\n",
        "print(apresentacao)"
      ],
      "execution_count": null,
      "outputs": []
    },
    {
      "cell_type": "markdown",
      "metadata": {
        "id": "vJ3GmHlbiklQ"
      },
      "source": [
        "Outra operação muito utilizada é a de fatiamento (*slicing*):\n",
        "\n"
      ]
    },
    {
      "cell_type": "markdown",
      "metadata": {
        "id": "h8i95BIFn8G9"
      },
      "source": [
        "**Exemplo**: Informações de email."
      ]
    },
    {
      "cell_type": "code",
      "metadata": {
        "id": "fGXbXFaAmM8J"
      },
      "source": [
        "email = 'diegopazzini2009@hotmail'"
      ],
      "execution_count": 20,
      "outputs": []
    },
    {
      "cell_type": "markdown",
      "metadata": {
        "id": "gnZGbes5mGeK"
      },
      "source": [
        "\n",
        "\n",
        "Fatiamento fixo:\n",
        "\n",
        "|a|n|d|r|e|.|p|e|r|e|z|@|g|m|a|i|l|.|c|o|m|\n",
        "|-|-|-|-|-|-|-|-|-|-|-|-|-|-|-|-|-|-|-|-|-|\n",
        "|0|1|2|3|4|5|6|7|8|9|10|11|12|13|14|15|16|17|18|19|20|\n",
        "\n"
      ]
    },
    {
      "cell_type": "code",
      "metadata": {
        "id": "oKjp4JKklnJF",
        "colab": {
          "base_uri": "https://localhost:8080/"
        },
        "outputId": "85e00abb-a80e-4cee-81ce-ade9b2942be6"
      },
      "source": [
        "print('0: ' + email[0])\n",
        "print('11: ' + email[11])"
      ],
      "execution_count": 21,
      "outputs": [
        {
          "output_type": "stream",
          "name": "stdout",
          "text": [
            "0: d\n",
            "11: i\n"
          ]
        }
      ]
    },
    {
      "cell_type": "code",
      "metadata": {
        "id": "ZLee51Qpoa5Q",
        "colab": {
          "base_uri": "https://localhost:8080/"
        },
        "outputId": "00a57d3e-5bce-41a7-d1dc-b425990835ee"
      },
      "source": [
        "print('-1: ' + email[-1])\n",
        "print('-2: ' + email[-2])"
      ],
      "execution_count": 22,
      "outputs": [
        {
          "output_type": "stream",
          "name": "stdout",
          "text": [
            "-1: l\n",
            "-2: i\n"
          ]
        }
      ]
    },
    {
      "cell_type": "markdown",
      "metadata": {
        "id": "tAx_IG1bmZVG"
      },
      "source": [
        "\n",
        "\n",
        "Fatiamento por intervalo:\n",
        "\n",
        "|a|n|d|r|e|.|p|e|r|e|z|@|g|m|a|i|l|.|c|o|m|\n",
        "|-|-|-|-|-|-|-|-|-|-|-|-|-|-|-|-|-|-|-|-|-|\n",
        "|0|1|2|3|4|5|6|7|8|9|10|11|12|13|14|15|16|17|18|19|20|\n",
        "\n"
      ]
    },
    {
      "cell_type": "code",
      "metadata": {
        "id": "WqP4HwT3mYgO",
        "colab": {
          "base_uri": "https://localhost:8080/"
        },
        "outputId": "e46805c7-3d75-44fe-edff-9a850807ac18"
      },
      "source": [
        "email_usuario = email[0:12]\n",
        "print(email_usuario)"
      ],
      "execution_count": 25,
      "outputs": [
        {
          "output_type": "stream",
          "name": "stdout",
          "text": [
            "diegopazzini\n"
          ]
        }
      ]
    },
    {
      "cell_type": "code",
      "metadata": {
        "id": "zOas_vlEmsby",
        "colab": {
          "base_uri": "https://localhost:8080/"
        },
        "outputId": "e662b8ec-0819-486a-af91-8cf85cd836b7"
      },
      "source": [
        "email_provedor = email[5:26]\n",
        "print(email_provedor)"
      ],
      "execution_count": 35,
      "outputs": [
        {
          "output_type": "stream",
          "name": "stdout",
          "text": [
            "pazzini2009@hotmail\n"
          ]
        }
      ]
    },
    {
      "cell_type": "markdown",
      "metadata": {
        "id": "L0pKWNr5fm9z"
      },
      "source": [
        "### **4.4. Métodos**"
      ]
    },
    {
      "cell_type": "markdown",
      "metadata": {
        "id": "52PinrQEon8-"
      },
      "source": [
        "São métodos nativos do Python que nos ajudam a trabalhar no dia a dia com *strings*:"
      ]
    },
    {
      "cell_type": "code",
      "metadata": {
        "id": "-63WyR-4o0Y-"
      },
      "source": [
        "endereco = 'Cidade: São Leopoldo - Estado: RS - Brasil'"
      ],
      "execution_count": 49,
      "outputs": []
    },
    {
      "cell_type": "code",
      "metadata": {
        "id": "qtGTk_Fwpixw",
        "colab": {
          "base_uri": "https://localhost:8080/"
        },
        "outputId": "b32ef405-7380-4b65-8f75-dc0456f94bdc"
      },
      "source": [
        "# maiusculo: string.upper()\n",
        "print(endereco.upper())"
      ],
      "execution_count": 44,
      "outputs": [
        {
          "output_type": "stream",
          "name": "stdout",
          "text": [
            "CIDADE: SÃO LEOPOLDO - ESTADO: RS.\n"
          ]
        }
      ]
    },
    {
      "cell_type": "code",
      "metadata": {
        "id": "8tYEXNxFqBnt",
        "colab": {
          "base_uri": "https://localhost:8080/"
        },
        "outputId": "a8801a40-1b47-453a-d035-91aaf15ba3b5"
      },
      "source": [
        "# posicao: string.find(substring)\n",
        "posicao = endereco.find('Brasil')\n",
        "print(posicao)"
      ],
      "execution_count": 50,
      "outputs": [
        {
          "output_type": "stream",
          "name": "stdout",
          "text": [
            "36\n"
          ]
        }
      ]
    },
    {
      "cell_type": "code",
      "metadata": {
        "id": "QuiITrGCqHbW",
        "colab": {
          "base_uri": "https://localhost:8080/"
        },
        "outputId": "3b20be0a-0825-47aa-c0f7-dc1c430e8bf5"
      },
      "source": [
        "# substituição: string.replace(antigo, novo)\n",
        "print(endereco.replace('Estado', 'Sigla'))"
      ],
      "execution_count": 43,
      "outputs": [
        {
          "output_type": "stream",
          "name": "stdout",
          "text": [
            "Cidade: São Leopoldo - Sigla: RS.\n"
          ]
        }
      ]
    },
    {
      "cell_type": "markdown",
      "metadata": {
        "id": "DMhCpOU_gupo"
      },
      "source": [
        "### **4.5. Conversão**"
      ]
    },
    {
      "cell_type": "markdown",
      "metadata": {
        "id": "1RLPv08iqnh0"
      },
      "source": [
        "Podemos converter *strings* em tipos numéricos e vice-versa."
      ]
    },
    {
      "cell_type": "code",
      "metadata": {
        "id": "3Vp8jY1Hqlz0",
        "colab": {
          "base_uri": "https://localhost:8080/"
        },
        "outputId": "55d15397-3d3b-4a8f-e4f1-e6da314c5935"
      },
      "source": [
        "idade = 30\n",
        "print(type(idade))\n",
        "\n",
        "idade = str(idade)\n",
        "print(type(idade))"
      ],
      "execution_count": 51,
      "outputs": [
        {
          "output_type": "stream",
          "name": "stdout",
          "text": [
            "<class 'int'>\n",
            "<class 'str'>\n"
          ]
        }
      ]
    },
    {
      "cell_type": "code",
      "metadata": {
        "id": "I6f8ZEPlrAgN",
        "colab": {
          "base_uri": "https://localhost:8080/"
        },
        "outputId": "f6bda5b0-4671-491f-9659-79781f83b99b"
      },
      "source": [
        "faturamento = 'R$ 35 mi'\n",
        "print(faturamento)\n",
        "print(type(idade))\n",
        "\n",
        "faturamento = int(faturamento[3:5])\n",
        "print(faturamento)\n",
        "print(type(faturamento))"
      ],
      "execution_count": 52,
      "outputs": [
        {
          "output_type": "stream",
          "name": "stdout",
          "text": [
            "R$ 35 mi\n",
            "<class 'str'>\n",
            "35\n",
            "<class 'int'>\n"
          ]
        }
      ]
    },
    {
      "cell_type": "markdown",
      "metadata": {
        "id": "l3h0WP2Eg2ht"
      },
      "source": [
        "### **4.6. Revisitando a motivação**"
      ]
    },
    {
      "cell_type": "markdown",
      "metadata": {
        "id": "cbTc4NNVzkTZ"
      },
      "source": [
        "Encontrando a posição do caracter `;` de divisão das *strings* de latitude e longitude da variável da startup:"
      ]
    },
    {
      "cell_type": "code",
      "metadata": {
        "id": "95m9FlwVyrBE",
        "colab": {
          "base_uri": "https://localhost:8080/"
        },
        "outputId": "eda17bea-1bfb-42bf-ca0b-58efbe10bec4"
      },
      "source": [
        "posicao_char_divisao = latlon.find(';')\n",
        "print(posicao_char_divisao)"
      ],
      "execution_count": 56,
      "outputs": [
        {
          "output_type": "stream",
          "name": "stdout",
          "text": [
            "10\n"
          ]
        }
      ]
    },
    {
      "cell_type": "markdown",
      "metadata": {
        "id": "5Sby1I4WzyFH"
      },
      "source": [
        "Extraindo a latitude:"
      ]
    },
    {
      "cell_type": "code",
      "metadata": {
        "id": "tXYl5Qd4zPUR",
        "colab": {
          "base_uri": "https://localhost:8080/"
        },
        "outputId": "69925b38-1128-422d-a5e4-ff46fd652a4d"
      },
      "source": [
        "lat_startup = latlon[0:posicao_char_divisao]\n",
        "print(lat_startup)"
      ],
      "execution_count": 54,
      "outputs": [
        {
          "output_type": "stream",
          "name": "stdout",
          "text": [
            "-22.005320\n"
          ]
        }
      ]
    },
    {
      "cell_type": "markdown",
      "metadata": {
        "id": "rpK7U99qz1uP"
      },
      "source": [
        "Extraindo a longitude:"
      ]
    },
    {
      "cell_type": "code",
      "metadata": {
        "id": "T3ctz0fbzRcA",
        "colab": {
          "base_uri": "https://localhost:8080/"
        },
        "outputId": "0f69e60e-8de9-451f-f748-27799aeca5cc"
      },
      "source": [
        "lon_startup = latlon[posicao_char_divisao+1:len(latlon)]\n",
        "print(lon_startup)"
      ],
      "execution_count": 55,
      "outputs": [
        {
          "output_type": "stream",
          "name": "stdout",
          "text": [
            "-47.891040\n"
          ]
        }
      ]
    },
    {
      "cell_type": "markdown",
      "metadata": {
        "id": "EvJTE2FpaGeU"
      },
      "source": [
        "## 5\\. Boleanos"
      ]
    },
    {
      "cell_type": "markdown",
      "metadata": {
        "id": "rWG4Vk6XaWtf"
      },
      "source": [
        "### **5.1. Motivação**\n",
        "\n"
      ]
    },
    {
      "cell_type": "markdown",
      "metadata": {
        "id": "jayz6OAaerA1"
      },
      "source": [
        "Em *websites* (redes sociais, *e-commerce*, corporativos, etc.) é comum o uso de sistemas de controle de acesso, o famoso *login*. Em geral, nestes sistemas um usuário fornece dois dados: `usuario` e `senha`:"
      ]
    },
    {
      "cell_type": "code",
      "metadata": {
        "id": "-vdJFukSbGVC"
      },
      "source": [
        "usuario = 'Diego.Pazzini'\n",
        "senha = 'Diego123'"
      ],
      "execution_count": 57,
      "outputs": []
    },
    {
      "cell_type": "markdown",
      "metadata": {
        "id": "X4lWGX3nbFqE"
      },
      "source": [
        "Do lado do servidor, o *backend* do *website* tem armazenado os dados de usuário e senha fornecidas pelo usuário no momento do cadastro: `usuario_cadastro` e `senha_cadastro`:"
      ]
    },
    {
      "cell_type": "code",
      "metadata": {
        "id": "pF1ZKoF5by6v"
      },
      "source": [
        "usuario_cadastro = 'Diego.Pazzini'\n",
        "senha_cadastro = 'Diego321'"
      ],
      "execution_count": 59,
      "outputs": []
    },
    {
      "cell_type": "markdown",
      "metadata": {
        "id": "ab-roDU-b5UA"
      },
      "source": [
        "Como comparamos se as *strings* (`usuario`, `usuario_cadastro`) e (`senha`,`senha_cadastro`) são iguais para conceder ou bloquear o acesso do usuário?"
      ]
    },
    {
      "cell_type": "markdown",
      "metadata": {
        "id": "wkibgd8rB8y3"
      },
      "source": [
        "### **5.2. Definição**"
      ]
    },
    {
      "cell_type": "markdown",
      "metadata": {
        "id": "Iy9ZmOJpVxHQ"
      },
      "source": [
        "Armazenam **valores lógicos**:\n",
        "\n",
        "*   `True` (verdadeiro);\n",
        "*   `False` (falso)."
      ]
    },
    {
      "cell_type": "code",
      "metadata": {
        "id": "C3ktXued98wX",
        "colab": {
          "base_uri": "https://localhost:8080/"
        },
        "outputId": "f40096da-e6b8-4efb-d229-35389084f716"
      },
      "source": [
        "verdadeiro = True\n",
        "print(verdadeiro)"
      ],
      "execution_count": 60,
      "outputs": [
        {
          "output_type": "stream",
          "name": "stdout",
          "text": [
            "True\n"
          ]
        }
      ]
    },
    {
      "cell_type": "code",
      "metadata": {
        "id": "BiOivdViCH9e",
        "colab": {
          "base_uri": "https://localhost:8080/"
        },
        "outputId": "1606b2de-a628-4c55-875b-47cdf63ea05e"
      },
      "source": [
        "falso = False\n",
        "print(falso)"
      ],
      "execution_count": 61,
      "outputs": [
        {
          "output_type": "stream",
          "name": "stdout",
          "text": [
            "False\n"
          ]
        }
      ]
    },
    {
      "cell_type": "markdown",
      "metadata": {
        "id": "Z0tOpkiS0EiO"
      },
      "source": [
        "São do tipo `bool`."
      ]
    },
    {
      "cell_type": "code",
      "metadata": {
        "id": "dyo_noZ80Hra",
        "colab": {
          "base_uri": "https://localhost:8080/"
        },
        "outputId": "6a41ed52-3880-47c5-c8d2-6345cf3b42f0"
      },
      "source": [
        "print(type(True))"
      ],
      "execution_count": 63,
      "outputs": [
        {
          "output_type": "stream",
          "name": "stdout",
          "text": [
            "<class 'bool'>\n"
          ]
        }
      ]
    },
    {
      "cell_type": "markdown",
      "metadata": {
        "id": "qEQrHcyGCtVu"
      },
      "source": [
        "São resultados de comparações lógicas. Os operadores de comparação lógica são:\n",
        "\n",
        "*   `>` (maior);\n",
        "*   `<` (menor);\n",
        "*   `==` (igual);\n",
        "*   `>=` (maior ou igual);\n",
        "*   `<=` (menor ou igual);\n",
        "*   `!=` (diferente).\n",
        "\n"
      ]
    },
    {
      "cell_type": "markdown",
      "metadata": {
        "id": "C-rpefH6fIPf"
      },
      "source": [
        "**Exemplo:** Caixa eletrônico"
      ]
    },
    {
      "cell_type": "code",
      "metadata": {
        "id": "q5PQwuBXDD2P"
      },
      "source": [
        "saldo_em_conta = 200\n",
        "valor_do_saque = 100\n",
        "\n",
        "pode_executar_saque = valor_do_saque <= saldo_em_conta\n",
        "print(pode_executar_saque)"
      ],
      "execution_count": null,
      "outputs": []
    },
    {
      "cell_type": "markdown",
      "metadata": {
        "id": "6a7xCtTwfSHq"
      },
      "source": [
        "**Exemplo:** Cartão de crédito"
      ]
    },
    {
      "cell_type": "code",
      "metadata": {
        "id": "8pdPLoK9DYZJ"
      },
      "source": [
        "codigo_de_seguranca = '852'\n",
        "codigo_de_seguranca_cadastro = '010'\n",
        "\n",
        "pode_efetuar_pagamento = codigo_de_seguranca == codigo_de_seguranca_cadastro\n",
        "print(pode_efetuar_pagamento)"
      ],
      "execution_count": null,
      "outputs": []
    },
    {
      "cell_type": "markdown",
      "metadata": {
        "id": "IjPaJtnYE0MI"
      },
      "source": [
        "### **5.3. Operações**"
      ]
    },
    {
      "cell_type": "markdown",
      "metadata": {
        "id": "E_1PEdDBV7iM"
      },
      "source": [
        "As operações de variáveis booleanas são:\n",
        "\n",
        "* `|` (operador ou)\n",
        "* `&` (operador e)\n",
        "* `not` (operador não)\n",
        "\n",
        "\n",
        "O conjunto de resultados de operações lógicas geralmente é resumido em uma tabela chamada \"tabela da verdade\":"
      ]
    },
    {
      "cell_type": "markdown",
      "metadata": {
        "id": "CHn4_ahDIAjz"
      },
      "source": [
        "| A        | B        | | | A OR B   | | A AND B  | | NOT A    |\n",
        "|----------|----------|-|-|----------|-|----------|-|----------|\n",
        "| **TRUE** | **TRUE** | | | **TRUE** | | **TRUE** | | FALSE    |\n",
        "| **TRUE** | FALSE    | | | **TRUE** | | FALSE    | | FALSE    |\n",
        "| FALSE    | FALSE    | | | FALSE    | | FALSE    | | **TRUE** |\n",
        "| FALSE    | **TRUE** | | | **TRUE** | | FALSE    | | **TRUE** |"
      ]
    },
    {
      "cell_type": "markdown",
      "metadata": {
        "id": "APMLCAXigGuI"
      },
      "source": [
        "**Exemplo**: Tabela da verdade do operador `|` (ou)."
      ]
    },
    {
      "cell_type": "code",
      "metadata": {
        "id": "-_OVIIKNE51C",
        "colab": {
          "base_uri": "https://localhost:8080/"
        },
        "outputId": "5adf3c9b-e08a-47c9-be5c-e0000dca9ce1"
      },
      "source": [
        "print(True | True)\n",
        "print(True | False)\n",
        "print(False | False)\n",
        "print(False | True)"
      ],
      "execution_count": 64,
      "outputs": [
        {
          "output_type": "stream",
          "name": "stdout",
          "text": [
            "True\n",
            "True\n",
            "False\n",
            "True\n"
          ]
        }
      ]
    },
    {
      "cell_type": "markdown",
      "metadata": {
        "id": "YK4D_jKOgRec"
      },
      "source": [
        "**Exemplo**: Tabela da verdade do operador `&` (e)."
      ]
    },
    {
      "cell_type": "code",
      "metadata": {
        "id": "skRK0k3aLmgx"
      },
      "source": [
        "print(True & True)\n",
        "print(True & False)\n",
        "print(False & False)\n",
        "print(False & True)"
      ],
      "execution_count": null,
      "outputs": []
    },
    {
      "cell_type": "markdown",
      "metadata": {
        "id": "Mj924xFDgUio"
      },
      "source": [
        "**Exemplo**: Tabela da verdade do operador `not` (não)."
      ]
    },
    {
      "cell_type": "code",
      "metadata": {
        "id": "woeHvKz8LrcD"
      },
      "source": [
        "print(not True)\n",
        "print(not False)"
      ],
      "execution_count": null,
      "outputs": []
    },
    {
      "cell_type": "markdown",
      "metadata": {
        "id": "2lpj1rszc--m"
      },
      "source": [
        "### **5.4. Conversão**"
      ]
    },
    {
      "cell_type": "markdown",
      "metadata": {
        "id": "KUq8EX6-dDBJ"
      },
      "source": [
        "Podemos converter tipos numéricos e *strings* para booleanos através do método nativo `bool`:"
      ]
    },
    {
      "cell_type": "code",
      "metadata": {
        "id": "O9tgHXRQdNJL",
        "colab": {
          "base_uri": "https://localhost:8080/"
        },
        "outputId": "82063b73-4df4-479c-f857-cec73f7acdec"
      },
      "source": [
        "idade = 19\n",
        "tipo_sangue = 'O-'\n",
        "filhos = 0\n",
        "telefone_fixo = None\n",
        "telefone_fixo = ''\n",
        "\n",
        "print(bool(idade))\n",
        "print(bool(tipo_sangue))\n",
        "print(bool(filhos))\n",
        "print(bool(telefone_fixo))\n",
        "print(bool(telefone_fixo))"
      ],
      "execution_count": 65,
      "outputs": [
        {
          "output_type": "stream",
          "name": "stdout",
          "text": [
            "True\n",
            "True\n",
            "False\n",
            "False\n",
            "False\n"
          ]
        }
      ]
    },
    {
      "cell_type": "markdown",
      "metadata": {
        "id": "HnWg_mhLd5gC"
      },
      "source": [
        "### **5.5. Revisitando a motivação**"
      ]
    },
    {
      "cell_type": "markdown",
      "metadata": {
        "id": "jZKyTqyU816m"
      },
      "source": [
        "Compara se os dados fornecidos pelo usuário são iguais aos dados do cadastro:"
      ]
    },
    {
      "cell_type": "code",
      "metadata": {
        "id": "CjOvS816d9jM",
        "colab": {
          "base_uri": "https://localhost:8080/"
        },
        "outputId": "16e4d580-e5b3-4cc2-dc5e-767b9e73f212"
      },
      "source": [
        "usuario_igual = usuario == usuario_cadastro\n",
        "senha_igual = senha == senha_cadastro\n",
        "\n",
        "print(usuario_igual)\n",
        "print(senha_igual)"
      ],
      "execution_count": 66,
      "outputs": [
        {
          "output_type": "stream",
          "name": "stdout",
          "text": [
            "True\n",
            "False\n"
          ]
        }
      ]
    },
    {
      "cell_type": "markdown",
      "metadata": {
        "id": "t1xsfbwY87-g"
      },
      "source": [
        "Decide se concede o acesso:"
      ]
    },
    {
      "cell_type": "code",
      "metadata": {
        "id": "MLxkWnuSeT5A",
        "colab": {
          "base_uri": "https://localhost:8080/"
        },
        "outputId": "75822850-6444-4a19-d677-38182d04d2d4"
      },
      "source": [
        "conceder_acesso = usuario_igual & senha_igual\n",
        "print(conceder_acesso)"
      ],
      "execution_count": 67,
      "outputs": [
        {
          "output_type": "stream",
          "name": "stdout",
          "text": [
            "False\n"
          ]
        }
      ]
    },
    {
      "cell_type": "markdown",
      "metadata": {
        "id": "zMN1Q3jdwoJm"
      },
      "source": [
        "---"
      ]
    },
    {
      "cell_type": "markdown",
      "metadata": {
        "id": "lSDYsB4zO04L"
      },
      "source": [
        "# **Conteúdo Extra**\n",
        "\n"
      ]
    },
    {
      "cell_type": "markdown",
      "metadata": {
        "id": "RhqmXiHQo-is"
      },
      "source": [
        "### Documentação Google Colab\n",
        "\n",
        " - [Google Colab FAQ](https://research.google.com/colaboratory/faq.html): Perguntas mais frequentes sobre o Google Colab."
      ]
    },
    {
      "cell_type": "markdown",
      "metadata": {
        "id": "SvT9xrajLL7J"
      },
      "source": [
        "### Documentação Python\n",
        "\n",
        "\n",
        " - [Tipos Nativos](https://docs.python.org/pt-br/3/library/stdtypes.html): Documentação oficial dos tipos de variáveis nativas da linguagem Python;\n",
        " - [Métodos de String](https://www.w3schools.com/python/python_ref_string.asp): Lista de métodos de *strings* com exemplos."
      ]
    },
    {
      "cell_type": "markdown",
      "metadata": {
        "id": "91eSyA2cLLqv"
      },
      "source": [
        "### Cadernos\n",
        "\n",
        " - [JupyterLab](https://jupyter.org/): Projeto original de de cadernos;\n",
        " - [GCP Notebooks](https://cloud.google.com/ai-platform-notebooks): Solução autogerenciada de cadernos da empresa Google Cloud Platform (GCP);\n",
        " - [Azure Notebooks](https://notebooks.azure.com/): Solução autogerenciada de cadernos da empresa Microsoft Azure;\n",
        " - [Databricks Notebooks](https://databricks.com/product/collaborative-notebooks): Solução autogerenciada de cadernos da empresa Databricks;\n",
        " - [AWS Sagemaker Notebooks](https://aws.amazon.com/pt/sagemaker/): Solução autogerenciada de cadernos da empresa Amazon Web Services (AWS)."
      ]
    }
  ]
}